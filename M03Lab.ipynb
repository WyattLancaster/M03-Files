{
 "cells": [
  {
   "cell_type": "code",
   "execution_count": 1,
   "id": "7b64a514",
   "metadata": {},
   "outputs": [
    {
     "name": "stdout",
     "output_type": "stream",
     "text": [
      "Enter the year of the car: 1969\n",
      "Enter the make of the car: Ford\n",
      "Enter the model of the car: Mustang\n",
      "Enter the number of doors (2 or 4): 2\n",
      "Enter the type of roof (solid or sunroof): solid\n",
      "Vehicle type: car\n",
      "Year: 1969\n",
      "Make: Ford\n",
      "Model: Mustang\n",
      "Number of doors: 2\n",
      "Type of roof: solid\n"
     ]
    }
   ],
   "source": [
    "# m03 - M03 Lab\n",
    "# author: WJL\n",
    "# created: 2022-02-5\n",
    "# Program that uses classes to define a vehicle type (car) and then creates that object via user input\n",
    "\n",
    "# Define the Vehicle class\n",
    "class Vehicle:\n",
    "    def __init__(self, vehicle_type):\n",
    "        self.vehicle_type = vehicle_type\n",
    "\n",
    "# Create and define the Automobile class\n",
    "class Automobile(Vehicle):\n",
    "    def __init__(self, year, make, model, doors, roof):\n",
    "        super().__init__(\"car\")\n",
    "        self.year = year\n",
    "        self.make = make\n",
    "        self.model = model\n",
    "        self.doors = doors\n",
    "        self.roof = roof\n",
    "\n",
    "# Create car object via user input\n",
    "car = Automobile(input(\"Enter the year of the car: \"),\n",
    "                 input(\"Enter the make of the car: \"),\n",
    "                 input(\"Enter the model of the car: \"),\n",
    "                 input(\"Enter the number of doors (2 or 4): \"),\n",
    "                 input(\"Enter the type of roof (solid or sunroof): \"))\n",
    "\n",
    "# Print the output\n",
    "print(\"Vehicle type:\", car.vehicle_type)\n",
    "print(\"Year:\", car.year)\n",
    "print(\"Make:\", car.make)\n",
    "print(\"Model:\", car.model)\n",
    "print(\"Number of doors:\", car.doors)\n",
    "print(\"Type of roof:\", car.roof)"
   ]
  }
 ],
 "metadata": {
  "kernelspec": {
   "display_name": "Python 3 (ipykernel)",
   "language": "python",
   "name": "python3"
  },
  "language_info": {
   "codemirror_mode": {
    "name": "ipython",
    "version": 3
   },
   "file_extension": ".py",
   "mimetype": "text/x-python",
   "name": "python",
   "nbconvert_exporter": "python",
   "pygments_lexer": "ipython3",
   "version": "3.9.13"
  }
 },
 "nbformat": 4,
 "nbformat_minor": 5
}
