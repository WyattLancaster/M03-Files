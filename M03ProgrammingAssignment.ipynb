{
 "cells": [
  {
   "cell_type": "code",
   "execution_count": 1,
   "id": "01d35fe2",
   "metadata": {},
   "outputs": [
    {
     "name": "stdout",
     "output_type": "stream",
     "text": [
      "['mozzarella', 'cinderella', 'salmonella']\n"
     ]
    }
   ],
   "source": [
    "# m03 - Programming Assignment: Lists and Functions 7.4\n",
    "# author: WJL\n",
    "# created: 2022-02-5\n",
    "# example program to test lists\n",
    "\n",
    "# Create the list\n",
    "things = [\"mozzarella\", \"cinderella\", \"salmonella\"]\n",
    "\n",
    "# Printing the list items\n",
    "print(things)"
   ]
  },
  {
   "cell_type": "code",
   "execution_count": 2,
   "id": "f2c22189",
   "metadata": {},
   "outputs": [
    {
     "name": "stdout",
     "output_type": "stream",
     "text": [
      "['mozzarella', 'Cinderella', 'salmonella']\n"
     ]
    }
   ],
   "source": [
    "# m03 - Programming Assignment: Lists and Functions 7.5\n",
    "# author: WJL\n",
    "# created: 2022-02-5\n",
    "# example program to test if a list changes when you capitalize one element\n",
    "\n",
    "# Create the list\n",
    "things = [\"mozzarella\", \"Cinderella\", \"salmonella\"]\n",
    "\n",
    "# Printing the list\n",
    "print(things)"
   ]
  },
  {
   "cell_type": "markdown",
   "id": "daf92999",
   "metadata": {},
   "source": [
    "The only difference between the two outputs is that \"Cinderella\" is now capitalized."
   ]
  },
  {
   "cell_type": "code",
   "execution_count": 3,
   "id": "d72a119a",
   "metadata": {},
   "outputs": [
    {
     "name": "stdout",
     "output_type": "stream",
     "text": [
      "['MOZZARELLA', 'Cinderella', 'salmonella']\n"
     ]
    }
   ],
   "source": [
    "# m03 - Programming Assignment: Lists and Functions 7.6\n",
    "# author: WJL\n",
    "# created: 2022-02-5\n",
    "# example program to test if a list changes when you capitalize all of the letters of an item\n",
    "\n",
    "# Create the list\n",
    "things = [\"MOZZARELLA\", \"Cinderella\", \"salmonella\"]\n",
    "\n",
    "# Printing the list\n",
    "print(things)"
   ]
  },
  {
   "cell_type": "markdown",
   "id": "c8b81213",
   "metadata": {},
   "source": [
    "Like before the only thing that changes is what I changed in the code."
   ]
  },
  {
   "cell_type": "code",
   "execution_count": 4,
   "id": "9da00ce9",
   "metadata": {},
   "outputs": [
    {
     "name": "stdout",
     "output_type": "stream",
     "text": [
      "['MOZZARELLA', 'Cinderella']\n"
     ]
    }
   ],
   "source": [
    "# m03 - Programming Assignment: Lists and Functions 7.7\n",
    "# author: WJL\n",
    "# created: 2022-02-5\n",
    "# example program to test if a list changes when you delete an item\n",
    "\n",
    "# Create the list\n",
    "things = [\"MOZZARELLA\", \"Cinderella\"]\n",
    "\n",
    "# Printing the list\n",
    "print(things)"
   ]
  },
  {
   "cell_type": "markdown",
   "id": "4d848af4",
   "metadata": {},
   "source": [
    "Like before the only thing that changes is what I changed in the code."
   ]
  },
  {
   "cell_type": "code",
   "execution_count": 28,
   "id": "6b409d36",
   "metadata": {},
   "outputs": [
    {
     "name": "stdout",
     "output_type": "stream",
     "text": [
      "['Harry', 'Ron', 'Hermione']\n"
     ]
    }
   ],
   "source": [
    "# m03 - Programming Assignment: Lists and Functions 9.1\n",
    "# author: WJL\n",
    "# created: 2022-02-5\n",
    "# example program that creates a function and returns the list defined within it\n",
    "\n",
    "# Define the function\n",
    "def good():\n",
    "    return [\"Harry\", \"Ron\", \"Hermione\"]\n",
    "\n",
    "# Print the value\n",
    "print(good())"
   ]
  },
  {
   "cell_type": "code",
   "execution_count": 29,
   "id": "89dfceab",
   "metadata": {},
   "outputs": [
    {
     "name": "stdout",
     "output_type": "stream",
     "text": [
      "5\n"
     ]
    }
   ],
   "source": [
    "# m03 - Programming Assignment: Lists and Functions 9.2\n",
    "# author: WJL\n",
    "# created: 2022-02-5\n",
    "# example program that creates a generator that returns odd numbers in range 10 and prints the third value returned\n",
    "\n",
    "# Define the function\n",
    "def get_odds():\n",
    "    for i in range(10):\n",
    "        if i % 2 == 1:\n",
    "            yield i\n",
    "\n",
    "# Retrieve the value\n",
    "odd_gen = get_odds()\n",
    "counter = 0\n",
    "for odd_num in odd_gen:\n",
    "    counter += 1\n",
    "    if counter == 3:\n",
    "        print(odd_num)\n",
    "        break"
   ]
  }
 ],
 "metadata": {
  "kernelspec": {
   "display_name": "Python 3 (ipykernel)",
   "language": "python",
   "name": "python3"
  },
  "language_info": {
   "codemirror_mode": {
    "name": "ipython",
    "version": 3
   },
   "file_extension": ".py",
   "mimetype": "text/x-python",
   "name": "python",
   "nbconvert_exporter": "python",
   "pygments_lexer": "ipython3",
   "version": "3.9.13"
  }
 },
 "nbformat": 4,
 "nbformat_minor": 5
}
